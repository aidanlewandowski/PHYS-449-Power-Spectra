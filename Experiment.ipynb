{
 "cells": [
  {
   "cell_type": "code",
   "execution_count": 1,
   "id": "12be6657",
   "metadata": {},
   "outputs": [],
   "source": [
    "#Importing Packages\n",
    "import numpy as np\n",
    "import matplotlib.pyplot as plt\n",
    "import math\n",
    "import random\n",
    "import pandas as pd\n",
    "import scipy.stats as stats"
   ]
  },
  {
   "cell_type": "code",
   "execution_count": 2,
   "id": "172aac8b",
   "metadata": {},
   "outputs": [],
   "source": [
    "#Frequency value array from previous notebook \n",
    "k_values = [[4.44,3.51,3.14,3.51],[3.51, 2.22, 1.57, 2.22],[3.14, 1.57, 0, 1.57], [3.51, 2.22, 1.57, 2.22]]\n"
   ]
  },
  {
   "cell_type": "code",
   "execution_count": 3,
   "id": "c3560b65",
   "metadata": {},
   "outputs": [],
   "source": [
    "#Frequency value array from previous notebook\n",
    "P_k = [[0.71, 1.6,  0.21, 1.6 ],[0.39, 0.18, 1.2, 1.24],[0.06, 0.22, 0.07, 0.22],\n",
    "       [0.39, 1.24, 1.2, 0.18]]"
   ]
  },
  {
   "cell_type": "code",
   "execution_count": 4,
   "id": "e59763d7",
   "metadata": {},
   "outputs": [
    {
     "name": "stdout",
     "output_type": "stream",
     "text": [
      "Upper Bin Limit 4.44\n"
     ]
    }
   ],
   "source": [
    "#Making my own start and end arrays\n",
    "\n",
    "max_k = np.max(k_values)\n",
    "print(\"Upper Bin Limit\", max_k)\n",
    "\n",
    "def create_bins(max_bin_value, num_bins):\n",
    "    bin_size = max_bin_value / num_bins\n",
    "    bin_starts = [bin_size * i for i in range(num_bins)]\n",
    "    bin_ends = [bin_size * (i+1) for i in range(num_bins)]\n",
    "    return bin_starts, bin_ends"
   ]
  },
  {
   "cell_type": "code",
   "execution_count": 5,
   "id": "677077f1",
   "metadata": {},
   "outputs": [
    {
     "name": "stdout",
     "output_type": "stream",
     "text": [
      "[0.   0.89 1.78 2.66 3.55]\n",
      "[0.89 1.78 2.66 3.55 4.44]\n"
     ]
    }
   ],
   "source": [
    "start, end = create_bins(max_k, 5)\n",
    "\n",
    "print(np.round(start, 2))\n",
    "print(np.round(end, 2))"
   ]
  },
  {
   "cell_type": "code",
   "execution_count": 6,
   "id": "958d45d3",
   "metadata": {},
   "outputs": [],
   "source": [
    "#From previous notebook (Power Spectra Intro)\n",
    "def find_element_positions(input_k, start, end):\n",
    "    positions = []\n",
    "    #iterating through each element in the start and end arrays\n",
    "    for k in range(len(start)):\n",
    "        sub_positions = []\n",
    "        #iterating through first dimension of input_k\n",
    "        for i in range(len(input_k)):\n",
    "            #iterating through second dimension of input_k\n",
    "            for j in range(len(input_k[0])):\n",
    "                #for elements within our inputted desired range\n",
    "                if start[k] <= input_k[i][j] <= end[k]:\n",
    "                    sub_positions.append((i, j))\n",
    "        positions.append(sub_positions)\n",
    "        \n",
    "    #will return tuples that given the locations of the elements in the given range\n",
    "    return positions"
   ]
  },
  {
   "cell_type": "code",
   "execution_count": 7,
   "id": "e7230990",
   "metadata": {},
   "outputs": [],
   "source": [
    "#From previous notebook (Power Spectra Intro)\n",
    "    \n",
    "def get_corresponding_values(input_k, fourier_array, start, end):\n",
    "    #calling function that returns position tuples\n",
    "    positions = find_element_positions(input_k, start, end)\n",
    "    \n",
    "    #empty list to store the values\n",
    "    values = []\n",
    "    \n",
    "    #iterate through rows in the positions array\n",
    "    for pos_row in positions:\n",
    "        #initialize an empty list to store each row's values\n",
    "        row_values = []\n",
    "        #iterate through pair of indices in the row\n",
    "        for i, j in pos_row:\n",
    "            #index into fourier array and store value\n",
    "            row_values.append(fourier_array[i][j])\n",
    "            \n",
    "        #append values for this row into overall values list\n",
    "        values.append(row_values)\n",
    "    \n",
    "    return values\n"
   ]
  },
  {
   "cell_type": "code",
   "execution_count": 8,
   "id": "0ec3a169",
   "metadata": {},
   "outputs": [
    {
     "data": {
      "text/plain": [
       "[[(2, 2)],\n",
       " [(1, 2), (2, 1), (2, 3), (3, 2)],\n",
       " [(1, 1), (1, 3), (3, 1), (3, 3)],\n",
       " [(0, 1), (0, 2), (0, 3), (1, 0), (2, 0), (3, 0)],\n",
       " [(0, 0)]]"
      ]
     },
     "execution_count": 8,
     "metadata": {},
     "output_type": "execute_result"
    }
   ],
   "source": [
    "find_element_positions(k_values, start, end)"
   ]
  },
  {
   "cell_type": "code",
   "execution_count": 9,
   "id": "feedc163",
   "metadata": {},
   "outputs": [
    {
     "data": {
      "text/plain": [
       "[[0.07],\n",
       " [1.2, 0.22, 0.22, 1.2],\n",
       " [0.18, 1.24, 1.24, 0.18],\n",
       " [1.6, 0.21, 1.6, 0.39, 0.06, 0.39],\n",
       " [0.71]]"
      ]
     },
     "execution_count": 9,
     "metadata": {},
     "output_type": "execute_result"
    }
   ],
   "source": [
    "get_corresponding_values(k_values, P_k, start, end)"
   ]
  },
  {
   "cell_type": "code",
   "execution_count": 10,
   "id": "9857e120",
   "metadata": {},
   "outputs": [],
   "source": [
    "#From Previous notebook (Power Spectra Intro)\n",
    "\n",
    "def avg_corresponding_values(input_k, fourier_array, start, end):\n",
    "    \n",
    "    #get our corresponding values 2D array\n",
    "    values = get_corresponding_values(input_k, fourier_array, start, end)\n",
    "    \n",
    "    #creating empty avg_values array\n",
    "    avg_values = []\n",
    "    #separating out ranges\n",
    "    for row in values:\n",
    "        row_sum = 0\n",
    "        #for each value in the row\n",
    "        for i in row:\n",
    "            row_sum += i\n",
    "            #taking the average value for the row\n",
    "            avg = row_sum/len(row)\n",
    "            \n",
    "        avg_values.append(avg)\n",
    "    \n",
    "    return avg_values\n",
    "    "
   ]
  },
  {
   "cell_type": "code",
   "execution_count": 11,
   "id": "872625df",
   "metadata": {},
   "outputs": [
    {
     "data": {
      "text/plain": [
       "[0.07, 0.71, 0.7100000000000001, 0.7083333333333334, 0.71]"
      ]
     },
     "execution_count": 11,
     "metadata": {},
     "output_type": "execute_result"
    }
   ],
   "source": [
    "avg_corresponding_values(k_values, P_k, start, end)"
   ]
  },
  {
   "cell_type": "code",
   "execution_count": 12,
   "id": "6f4eeb71",
   "metadata": {},
   "outputs": [],
   "source": [
    "#SHOULD EXPECT A FLAT LINE IN YOUR FINAL P(K) VS K PLOT\n",
    "#Maybe some noise due to the fact that it is such a small plot\n",
    "\n",
    "def power_spectra_plot(input_k, fourier_array, start, end):\n",
    "    \n",
    "    #Getting the average fourier value for the chosen k range\n",
    "    avg_values = avg_corresponding_values(input_k, fourier_array, start, end)\n",
    "    #List of integers from our chosen range values\n",
    "    #Will be the labels for the x-axis\n",
    "    range_values = list(range(len(start)))\n",
    "    \n",
    "    F1 = plt.figure(figsize = (8,8))\n",
    "    plt.style.use(\"fast\")\n",
    "    hfont = {'fontname':'Times New Roman'}\n",
    "    \n",
    "    plt.plot(range_values, avg_values)\n",
    "    \n",
    "    #Plot Titles\n",
    "    plt.suptitle(\"Power Spectrum from a 2D Toy Box\", size = 30, **hfont)\n",
    "    plt.xlabel(r\"k [$\\mathregular{Mpc^{-1}}$]\", size=25, **hfont)\n",
    "    plt.ylabel(r\"$\\mathregular{P(k) [mK^2]}$\", size = 25, **hfont) \n",
    "\n",
    "    #Tick Parameters\n",
    "    plt.tick_params(bottom=True, top=True, left=True, right=True, which='major', \n",
    "                    direction = \"in\", labelsize=20, width=1.3, color='black')\n",
    "    plt.tick_params(top= True, right = True, axis='both', which='minor', direction='in', \n",
    "                    labelsize = 20, length=5, width=1.3)\n",
    "    plt.yticks(fontname = \"Times New Roman\") \n",
    "    plt.xticks(fontname = \"Times New Roman\") \n",
    "    \n",
    "    plt.tight_layout()\n",
    "    \n",
    "    F1.savefig(\"Power Spectrum from a 2D Toy Box\", format=\"png\", dpi=1200)"
   ]
  },
  {
   "cell_type": "code",
   "execution_count": 13,
   "id": "79988dce",
   "metadata": {},
   "outputs": [
    {
     "data": {
      "image/png": "[encoded data removed]",
      "text/plain": [
       "<Figure size 576x576 with 1 Axes>"
      ]
     },
     "metadata": {
      "needs_background": "light"
     },
     "output_type": "display_data"
    }
   ],
   "source": [
    "power_spectra_plot(k_values, P_k, start, end)"
   ]
  }
 ],
 "metadata": {
  "kernelspec": {
   "display_name": "Python 3 (ipykernel)",
   "language": "python",
   "name": "python3"
  },
  "language_info": {
   "codemirror_mode": {
    "name": "ipython",
    "version": 3
   },
   "file_extension": ".py",
   "mimetype": "text/x-python",
   "name": "python",
   "nbconvert_exporter": "python",
   "pygments_lexer": "ipython3",
   "version": "3.8.5"
  }
 },
 "nbformat": 4,
 "nbformat_minor": 5
}
