{
 "cells": [
  {
   "cell_type": "code",
   "execution_count": 2,
   "id": "12be6657",
   "metadata": {},
   "outputs": [],
   "source": [
    "import numpy as np\n",
    "import matplotlib.pyplot as plt\n",
    "import math\n",
    "import random\n",
    "import pandas as pd\n",
    "import scipy.stats as stats"
   ]
  },
  {
   "cell_type": "code",
   "execution_count": 3,
   "id": "172aac8b",
   "metadata": {},
   "outputs": [],
   "source": [
    "k_values = [[4.44,3.51,3.14,3.51],[3.51, 2.22, 1.57, 2.22],[3.14, 1.57, 0, 1.57], [3.51, 2.22, 1.57, 2.22]]\n"
   ]
  },
  {
   "cell_type": "code",
   "execution_count": 4,
   "id": "c3560b65",
   "metadata": {},
   "outputs": [],
   "source": [
    "P_k = [[0.71, 1.6,  0.21, 1.6 ],[0.39, 0.18, 1.2, 1.24],[0.06, 0.22, 0.07, 0.22],\n",
    "       [0.39, 1.24, 1.2, 0.18]]"
   ]
  },
  {
   "cell_type": "code",
   "execution_count": 5,
   "id": "7825c22d",
   "metadata": {},
   "outputs": [],
   "source": [
    "start = [0, 1, 2, 3, 4]\n",
    "end = [1, 2, 3, 4, 5]"
   ]
  },
  {
   "cell_type": "code",
   "execution_count": 6,
   "id": "3cf25e8a",
   "metadata": {},
   "outputs": [],
   "source": [
    "#a function for splitting up ring sizes in the model\n",
    "def equal_spacing(input_k):\n",
    "    \n",
    "    #creating empty values that will be replaced later\n",
    "    min_value = input_k[0][0]\n",
    "    max_value = input_k[0][0]\n",
    "    \n",
    "    #finding minimum and maximum values in 2D k-array\n",
    "    for i in range(len(input_k)):\n",
    "        for j in range(len(input_k[i])):\n",
    "            min_value = min(min_value, input_k[i][j])\n",
    "            max_value = max(max_value, input_k[i][j])\n",
    "    \n",
    "    #determining how many rings we will have\n",
    "    #each ring will be equally spaced\n",
    "    difference = max_value - min_value\n",
    "    spacing = difference / (len(input_k) * len(input_k[0]) - 1)\n",
    "    \n",
    "    #these will be our \"start\" values in our find_element_positions function\n",
    "    initial_values = [min_value + i * spacing for i in range(len(input_k) * len(input_k[0]))]\n",
    "    #these will be our \"end\" values in our find_element_positions function\n",
    "    spaced_values = [initial_values[i] + spacing for i in range(len(initial_values))]\n",
    "    \n",
    "    return initial_values, spaced_values"
   ]
  },
  {
   "cell_type": "code",
   "execution_count": 15,
   "id": "5b619a56",
   "metadata": {},
   "outputs": [
    {
     "data": {
      "text/plain": [
       "([0.0,\n",
       "  0.29600000000000004,\n",
       "  0.5920000000000001,\n",
       "  0.8880000000000001,\n",
       "  1.1840000000000002,\n",
       "  1.4800000000000002,\n",
       "  1.7760000000000002,\n",
       "  2.072,\n",
       "  2.3680000000000003,\n",
       "  2.6640000000000006,\n",
       "  2.9600000000000004,\n",
       "  3.2560000000000002,\n",
       "  3.5520000000000005,\n",
       "  3.8480000000000008,\n",
       "  4.144,\n",
       "  4.44],\n",
       " [0.29600000000000004,\n",
       "  0.5920000000000001,\n",
       "  0.8880000000000001,\n",
       "  1.1840000000000002,\n",
       "  1.4800000000000002,\n",
       "  1.7760000000000002,\n",
       "  2.072,\n",
       "  2.3680000000000003,\n",
       "  2.6640000000000006,\n",
       "  2.960000000000001,\n",
       "  3.2560000000000002,\n",
       "  3.5520000000000005,\n",
       "  3.8480000000000008,\n",
       "  4.144000000000001,\n",
       "  4.44,\n",
       "  4.736000000000001])"
      ]
     },
     "execution_count": 15,
     "metadata": {},
     "output_type": "execute_result"
    }
   ],
   "source": [
    "equal_spacing(k_values)"
   ]
  },
  {
   "cell_type": "code",
   "execution_count": 7,
   "id": "958d45d3",
   "metadata": {},
   "outputs": [],
   "source": [
    "def find_element_positions(input_k, start, end):\n",
    "    positions = []\n",
    "    #iterating through each element in the start and end arrays\n",
    "    for k in range(len(start)):\n",
    "        sub_positions = []\n",
    "        #iterating through first dimension of input_k\n",
    "        for i in range(len(input_k)):\n",
    "            #iterating through second dimension of input_k\n",
    "            for j in range(len(input_k[0])):\n",
    "                #for elements within our inputted desired range\n",
    "                if start[k] <= input_k[i][j] <= end[k]:\n",
    "                    sub_positions.append((i, j))\n",
    "        positions.append(sub_positions)\n",
    "    \n",
    "    #will return tuples that given the locations of the elements in the given range\n",
    "    return positions"
   ]
  },
  {
   "cell_type": "code",
   "execution_count": 8,
   "id": "e7230990",
   "metadata": {},
   "outputs": [],
   "source": [
    "#find corresponding [i,j] positions in fourier transform array \n",
    "#should be same dimensions as k array\n",
    "    \n",
    "def get_corresponding_values(input_k, fourier_array, start, end):\n",
    "    #calling function that returns position tuples\n",
    "    positions = find_element_positions(input_k, start, end)\n",
    "    \n",
    "    #empty list to store the values\n",
    "    values = []\n",
    "    \n",
    "    #iterate through rows in the positions array\n",
    "    for pos_row in positions:\n",
    "        #initialize an empty list to store each row's values\n",
    "        row_values = []\n",
    "        #iterate through pair of indices in the row\n",
    "        for i, j in pos_row:\n",
    "            #index into fourier array and store value\n",
    "            row_values.append(fourier_array[i][j])\n",
    "            \n",
    "        #append values for this row into overall values list\n",
    "        values.append(row_values)\n",
    "    \n",
    "    return values\n"
   ]
  },
  {
   "cell_type": "code",
   "execution_count": 9,
   "id": "0ec3a169",
   "metadata": {},
   "outputs": [
    {
     "data": {
      "text/plain": [
       "[[(2, 2)],\n",
       " [(1, 2), (2, 1), (2, 3), (3, 2)],\n",
       " [(1, 1), (1, 3), (3, 1), (3, 3)],\n",
       " [(0, 1), (0, 2), (0, 3), (1, 0), (2, 0), (3, 0)],\n",
       " [(0, 0)]]"
      ]
     },
     "execution_count": 9,
     "metadata": {},
     "output_type": "execute_result"
    }
   ],
   "source": [
    "find_element_positions(k_values, start, end)"
   ]
  },
  {
   "cell_type": "code",
   "execution_count": 10,
   "id": "feedc163",
   "metadata": {},
   "outputs": [
    {
     "data": {
      "text/plain": [
       "[[0.07],\n",
       " [1.2, 0.22, 0.22, 1.2],\n",
       " [0.18, 1.24, 1.24, 0.18],\n",
       " [1.6, 0.21, 1.6, 0.39, 0.06, 0.39],\n",
       " [0.71]]"
      ]
     },
     "execution_count": 10,
     "metadata": {},
     "output_type": "execute_result"
    }
   ],
   "source": [
    "get_corresponding_values(k_values, P_k, start, end)"
   ]
  },
  {
   "cell_type": "code",
   "execution_count": 11,
   "id": "9857e120",
   "metadata": {},
   "outputs": [],
   "source": [
    "def avg_corresponding_values(input_k, fourier_array, start, end):\n",
    "    \n",
    "    #get our corresponding values 2D array\n",
    "    values = get_corresponding_values(input_k, fourier_array, start, end)\n",
    "    \n",
    "    #creating empty avg_values array\n",
    "    avg_values = []\n",
    "    #separating out ranges\n",
    "    for row in values:\n",
    "        row_sum = 0\n",
    "        #for each value in the row\n",
    "        for i in row:\n",
    "            row_sum += i\n",
    "            #taking the average value for the row\n",
    "            avg = row_sum/len(row)\n",
    "            \n",
    "        avg_values.append(avg)\n",
    "    \n",
    "    return avg_values\n",
    "    "
   ]
  },
  {
   "cell_type": "code",
   "execution_count": 12,
   "id": "872625df",
   "metadata": {},
   "outputs": [
    {
     "data": {
      "text/plain": [
       "[0.07, 0.71, 0.7100000000000001, 0.7083333333333334, 0.71]"
      ]
     },
     "execution_count": 12,
     "metadata": {},
     "output_type": "execute_result"
    }
   ],
   "source": [
    "avg_corresponding_values(k_values, P_k, start, end)"
   ]
  },
  {
   "cell_type": "code",
   "execution_count": 13,
   "id": "6f4eeb71",
   "metadata": {},
   "outputs": [],
   "source": [
    "#SHOULD EXPECT A FLAT LINE IN YOUR FINAL P(K) VS K PLOT\n",
    "#maybe some noise due to the fact that it is such a small plot\n",
    "\n",
    "def power_spectra_plot(input_k, fourier_array, start, end):\n",
    "    \n",
    "    #getting the average fourier value for the chosen k range\n",
    "    avg_values = avg_corresponding_values(input_k, fourier_array, start, end)\n",
    "    #list of integers from our chosen range values\n",
    "    #will be the labels for the x-axis\n",
    "    range_values = list(range(len(start)))\n",
    "    \n",
    "    plt.plot(range_values, avg_values)\n",
    "    \n",
    "    #plot specifications\n",
    "    plt.xlabel(\"$k$\", size = 12)\n",
    "    plt.ylabel(\"$P(k)$\", size = 12)\n",
    "    plt.suptitle(\"Power Spectrum from a 2D Toy Box\", size = 15)\n",
    "    plt.tight_layout()"
   ]
  },
  {
   "cell_type": "code",
   "execution_count": 14,
   "id": "79988dce",
   "metadata": {},
   "outputs": [
    {
     "data": {
      "image/png": "[encoded data removed]",
      "text/plain": [
       "<Figure size 432x288 with 1 Axes>"
      ]
     },
     "metadata": {
      "needs_background": "light"
     },
     "output_type": "display_data"
    }
   ],
   "source": [
    "power_spectra_plot(k_values, P_k, start, end)"
   ]
  },
  {
   "cell_type": "code",
   "execution_count": null,
   "id": "2981462d",
   "metadata": {},
   "outputs": [],
   "source": []
  }
 ],
 "metadata": {
  "kernelspec": {
   "display_name": "Python 3 (ipykernel)",
   "language": "python",
   "name": "python3"
  },
  "language_info": {
   "codemirror_mode": {
    "name": "ipython",
    "version": 3
   },
   "file_extension": ".py",
   "mimetype": "text/x-python",
   "name": "python",
   "nbconvert_exporter": "python",
   "pygments_lexer": "ipython3",
   "version": "3.8.5"
  }
 },
 "nbformat": 4,
 "nbformat_minor": 5
}
