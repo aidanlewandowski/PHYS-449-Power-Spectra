{
 "cells": [
  {
   "cell_type": "markdown",
   "id": "81dc46d0",
   "metadata": {},
   "source": [
    "## Week 1, 2, 3 of Coding: Jan 17th-Feb 6th, 2023\n",
    "\n",
    "Start with 4x4 box & get power spectrum code working (with the steps included)\n",
    "\n",
    "np.ft() will compute the Fourier Transform for you"
   ]
  },
  {
   "cell_type": "code",
   "execution_count": 1,
   "id": "dbf47fba",
   "metadata": {},
   "outputs": [],
   "source": [
    "import numpy as np\n",
    "import matplotlib.pyplot as plt\n",
    "import math\n",
    "import random\n",
    "import pandas as pd\n",
    "import scipy.stats as stats"
   ]
  },
  {
   "cell_type": "markdown",
   "id": "04c6f19a",
   "metadata": {},
   "source": [
    "### **Step 1:** Create a 4x4 box"
   ]
  },
  {
   "cell_type": "code",
   "execution_count": null,
   "id": "b1520ab0",
   "metadata": {},
   "outputs": [],
   "source": []
  },
  {
   "cell_type": "code",
   "execution_count": 2,
   "id": "53e5fee8",
   "metadata": {},
   "outputs": [
    {
     "name": "stdout",
     "output_type": "stream",
     "text": [
      "[[ 0.44  0.44  0.61 -0.03]\n",
      " [ 1.52 -0.4   0.04  0.99]\n",
      " [-1.19  1.42 -0.67 -1.42]\n",
      " [-0.13 -0.51  0.37 -0.44]]\n"
     ]
    }
   ],
   "source": [
    "#creating 2D array with 4x4 dimensions\n",
    "\n",
    "toy_box = np.random.normal(size = (4,4))\n",
    "\n",
    "%precision 2\n",
    "print(toy_box)\n",
    "\n",
    "npix = toy_box.shape[0]"
   ]
  },
  {
   "cell_type": "markdown",
   "id": "b5160680",
   "metadata": {},
   "source": [
    "### **Step 2:** Complete the Fourier Transform to get from r to k space\n",
    "\n",
    "Units will be in $K*Mpc^3$"
   ]
  },
  {
   "cell_type": "code",
   "execution_count": 3,
   "id": "7f9b0423",
   "metadata": {},
   "outputs": [],
   "source": [
    "#using np.fft.fft() to compute the Fourier Transform\n",
    "#radial values will now be in k space\n",
    "#we need to use fft.fftshift because this function assumes we start at 0\n",
    "    #rather, we want 0 to be in the middle of our function\n",
    "    #this is the difference between astro and numpy units\n",
    "    \n",
    "\n",
    "#Make a function to shift, transform, and shift back\n",
    "def cosmo_transform(input_box):\n",
    "    #shifting the zero frequency component to the center\n",
    "    shift_1 = np.fft.fftshift(input_box)\n",
    "    \n",
    "    #fourier transform after the shift\n",
    "    #need to fourier transform here, shift does not transform alone\n",
    "    transformed_box = np.fft.fftn(shift_1)\n",
    "    \n",
    "    #shifting the zero-frequency component back to its assumed numpy\n",
    "    #original position\n",
    "    shift_2 = np.fft.ifftshift(transformed_box)\n",
    "    \n",
    "    return shift_2"
   ]
  },
  {
   "cell_type": "code",
   "execution_count": 4,
   "id": "91041a58",
   "metadata": {},
   "outputs": [
    {
     "name": "stdout",
     "output_type": "stream",
     "text": [
      "[[-3.38+0.j    1.67-4.77j -1.85+0.j    1.67+4.77j]\n",
      " [-2.5 +0.22j  1.68-0.38j -3.31-2.86j -0.99+4.34j]\n",
      " [ 0.96+0.j   -0.29-1.84j  1.05+0.j   -0.29+1.84j]\n",
      " [-2.5 -0.22j -0.99-4.34j -3.31+2.86j  1.68+0.38j]]\n"
     ]
    }
   ],
   "source": [
    "k_space_box = cosmo_transform(toy_box)\n",
    "print(k_space_box)"
   ]
  },
  {
   "cell_type": "markdown",
   "id": "7d29eb23",
   "metadata": {},
   "source": [
    "### **Step 3:** Square this value to find the amplitude of this integral\n",
    "\n",
    "Will get $(\\lvert(T)\\rvert)^2$ $(k^2 Mpc^6)$"
   ]
  },
  {
   "cell_type": "code",
   "execution_count": 5,
   "id": "7f4c096a",
   "metadata": {},
   "outputs": [
    {
     "name": "stdout",
     "output_type": "stream",
     "text": [
      "[[11.42 25.56  3.44 25.56]\n",
      " [ 6.27  2.96 19.17 19.86]\n",
      " [ 0.93  3.49  1.09  3.49]\n",
      " [ 6.27 19.86 19.17  2.96]]\n",
      "11.415263634515021\n"
     ]
    }
   ],
   "source": [
    "amplitude = np.abs(k_space_box)**2\n",
    "print(amplitude)\n",
    "\n",
    "#testing if the values are correct\n",
    "test = np.abs(k_space_box[0][0])**2\n",
    "print(test)\n",
    "    #[0][0] element does match up!"
   ]
  },
  {
   "cell_type": "markdown",
   "id": "3ba337df",
   "metadata": {},
   "source": [
    "### **Step 4:** Divide original Volume of Box\n",
    "\n",
    "$P(k) = \\frac{<(\\lvert(T(k))\\rvert)^2>}{V}$\n",
    "\n",
    "Units are $k^2 Mpc^3$"
   ]
  },
  {
   "cell_type": "code",
   "execution_count": 6,
   "id": "57f6e7f8",
   "metadata": {},
   "outputs": [
    {
     "name": "stdout",
     "output_type": "stream",
     "text": [
      "First Box Value:: 0.7134539771571888\n",
      "2D Array of P_k values:\n",
      "[[0.71 1.6  0.21 1.6 ]\n",
      " [0.39 0.18 1.2  1.24]\n",
      " [0.06 0.22 0.07 0.22]\n",
      " [0.39 1.24 1.2  0.18]]\n"
     ]
    }
   ],
   "source": [
    "#in this case it will be area, not volume\n",
    "Area = 16 #since it is a 4x4 box\n",
    "\n",
    "#getting the power spectra\n",
    "    #we should be getting real values for our box computation\n",
    "P_k = (amplitude/Area)\n",
    "\n",
    "#proving that the 0. inputs are just infinitesimally small numbers\n",
    "print(\"First Box Value::\", P_k[0][0])\n",
    "print(\"2D Array of P_k values:\")\n",
    "print(P_k)"
   ]
  },
  {
   "cell_type": "markdown",
   "id": "82e7af3a",
   "metadata": {},
   "source": [
    "### **Step 5:** Attempting to Plot"
   ]
  },
  {
   "cell_type": "markdown",
   "id": "ebf50081",
   "metadata": {},
   "source": [
    "Next, we need to convert to frequency space. The numpy convention for converting to frequency space is given by:\n",
    "\n",
    "$f(\\omega) = \\int(dx*\\exp(-i*2\\pi*\\omega*x)*f(x))$\n",
    "\n",
    "The astro convention for converting to frequency space is given by\n",
    "\n",
    "$f(k) = \\int(dx*\\exp(-ikx)*f(x))$"
   ]
  },
  {
   "cell_type": "code",
   "execution_count": 7,
   "id": "97ce86e2",
   "metadata": {},
   "outputs": [],
   "source": [
    "#creating a function to generate the k_x frequency array\n",
    "\n",
    "def kx_frequency_array(one_D_array):\n",
    "    #fourier transform to frequency space\n",
    "    #need to fourier transform here, shift does not transform alone\n",
    "    #1D array containing the wavevectors \n",
    "    #by multiplying by the total # of pixels, we convert them to pixel freq.\n",
    "    kfreq = np.fft.fftfreq(one_D_array)*2*np.pi\n",
    "    \n",
    "    #shifting back to its assumed numpy position\n",
    "    k_x = np.fft.fftshift(kfreq)\n",
    "    \n",
    "    return k_x"
   ]
  },
  {
   "cell_type": "code",
   "execution_count": 8,
   "id": "10144afc",
   "metadata": {},
   "outputs": [],
   "source": [
    "#THIS IS THE K_X ARRAY\n",
    "k_x = kx_frequency_array(npix)"
   ]
  },
  {
   "cell_type": "code",
   "execution_count": 9,
   "id": "63631050",
   "metadata": {},
   "outputs": [],
   "source": [
    "#creating a function to generate the k_y frequency array\n",
    "\n",
    "def ky_frequency_array(one_D_array):\n",
    "    #fourier transform to frequency space\n",
    "    #need to fourier transform here, shift does not transform alone\n",
    "    #1D array containing the wavevectors \n",
    "    #by multiplying by the total # of pixels, we convert them to pixel freq.\n",
    "    kfreq = np.fft.fftfreq(one_D_array)*2*np.pi\n",
    "    \n",
    "    #shifting back to its assumed numpy position\n",
    "    k_y = np.fft.fftshift(kfreq)\n",
    "    \n",
    "    return k_y"
   ]
  },
  {
   "cell_type": "code",
   "execution_count": 10,
   "id": "33439c1b",
   "metadata": {},
   "outputs": [],
   "source": [
    "#THIS IS THE K_Y ARRAY\n",
    "k_y = ky_frequency_array(npix)"
   ]
  },
  {
   "cell_type": "code",
   "execution_count": 11,
   "id": "635bb74c",
   "metadata": {},
   "outputs": [
    {
     "name": "stdout",
     "output_type": "stream",
     "text": [
      "[array([[-3.14, -1.57,  0.  ,  1.57],\n",
      "       [-3.14, -1.57,  0.  ,  1.57],\n",
      "       [-3.14, -1.57,  0.  ,  1.57],\n",
      "       [-3.14, -1.57,  0.  ,  1.57]]), array([[-3.14, -3.14, -3.14, -3.14],\n",
      "       [-1.57, -1.57, -1.57, -1.57],\n",
      "       [ 0.  ,  0.  ,  0.  ,  0.  ],\n",
      "       [ 1.57,  1.57,  1.57,  1.57]])]\n"
     ]
    }
   ],
   "source": [
    "#creating an array matching our toy_box array\n",
    "kfreq2D = np.meshgrid(k_x, k_y)\n",
    "print(kfreq2D)"
   ]
  },
  {
   "cell_type": "code",
   "execution_count": 12,
   "id": "c5d12590",
   "metadata": {},
   "outputs": [
    {
     "name": "stdout",
     "output_type": "stream",
     "text": [
      "[[4.44 3.51 3.14 3.51]\n",
      " [3.51 2.22 1.57 2.22]\n",
      " [3.14 1.57 0.   1.57]\n",
      " [3.51 2.22 1.57 2.22]]\n"
     ]
    }
   ],
   "source": [
    "#normalisation factor\n",
    "#finding distance between pixels\n",
    "k_values = np.sqrt(kfreq2D[0]**2 + kfreq2D[1]**2)\n",
    "print(k_values)"
   ]
  },
  {
   "cell_type": "markdown",
   "id": "81cf326a",
   "metadata": {},
   "source": [
    "$\\textbf{Ring Model:}$ For a deisgnated value of k, we take all of the fourier transformed array values that fit within that one k value"
   ]
  },
  {
   "cell_type": "code",
   "execution_count": 13,
   "id": "db7cf75e",
   "metadata": {},
   "outputs": [],
   "source": [
    "#when you have K array and fourier transform array, implement the Ring Model\n",
    "\n",
    "#for i, j in k_array, return position(s) of array in [i,j] when k = 1-2 (for example)\n",
    "#need to bin data into rings so each of the fourier transform will eventually fall into \n",
    "    #one of these bins\n",
    "\n",
    "def find_element_positions(input_k, start, end):\n",
    "    positions = []\n",
    "    #iterating through first dimension\n",
    "    for i in range(len(input_k)):\n",
    "        #iterating through second dimension\n",
    "        for j in range(len(input_k[0])):\n",
    "            #for elements within our inputted desired range\n",
    "            if start <= input_k[i][j] <= end:\n",
    "                positions.append((i, j))\n",
    "    \n",
    "    #will return tuples that given the locations of the elements in the given range\n",
    "    return positions"
   ]
  },
  {
   "cell_type": "code",
   "execution_count": 14,
   "id": "f1f17134",
   "metadata": {},
   "outputs": [
    {
     "name": "stdout",
     "output_type": "stream",
     "text": [
      "[(2, 2)]\n",
      "[(1, 2), (2, 1), (2, 3), (3, 2)]\n",
      "[(1, 1), (1, 3), (3, 1), (3, 3)]\n",
      "[(0, 1), (0, 2), (0, 3), (1, 0), (2, 0), (3, 0)]\n",
      "[(0, 0)]\n"
     ]
    }
   ],
   "source": [
    "ring_1 = find_element_positions(k_values, 0, 1)\n",
    "print(ring_1)\n",
    "\n",
    "ring_2 = find_element_positions(k_values, 1, 2)\n",
    "print(ring_2)\n",
    "\n",
    "ring_3 = find_element_positions(k_values, 2, 3)\n",
    "print(ring_3)\n",
    "\n",
    "ring_4 = find_element_positions(k_values, 3, 4)\n",
    "print(ring_4)\n",
    "\n",
    "ring_5 = find_element_positions(k_values, 4, 5)\n",
    "print(ring_5)"
   ]
  },
  {
   "cell_type": "code",
   "execution_count": 15,
   "id": "8a08aa74",
   "metadata": {},
   "outputs": [],
   "source": [
    "#find corresponding [i,j] positions in fourier transform array \n",
    "#should be same dimensions as k array\n",
    "    \n",
    "def get_corresponding_values(input_k, fourier_array, start, end):\n",
    "    #calling the function that returns the position tuples\n",
    "    positions = find_element_positions(input_k, start, end)\n",
    "    \n",
    "    #find the corresponding values in fourier array using the position tuples\n",
    "    values = [fourier_array[i][j] for i, j in positions]\n",
    "    \n",
    "    return values"
   ]
  },
  {
   "cell_type": "code",
   "execution_count": 16,
   "id": "7f47f8e0",
   "metadata": {},
   "outputs": [
    {
     "name": "stdout",
     "output_type": "stream",
     "text": [
      "[0.06833350452843409]\n",
      "[1.1983042419819572, 0.2180041250551365, 0.2180041250551365, 1.1983042419819572]\n",
      "[0.18481640998210103, 1.2412614434398386, 1.2412614434398386, 0.18481640998210103]\n",
      "[1.597225824384455, 0.21469774355756632, 1.597225824384455, 0.39201652019057803, 0.057927877583069026, 0.39201652019057803]\n",
      "[0.7134539771571888]\n"
     ]
    }
   ],
   "source": [
    "fourier_ring_1 = get_corresponding_values(k_values, P_k, 0, 1)\n",
    "print(fourier_ring_1)\n",
    "\n",
    "fourier_ring_2 = get_corresponding_values(k_values, P_k, 1, 2)\n",
    "print(fourier_ring_2)\n",
    "\n",
    "fourier_ring_3 = get_corresponding_values(k_values, P_k, 2, 3)\n",
    "print(fourier_ring_3)\n",
    "\n",
    "fourier_ring_4 = get_corresponding_values(k_values, P_k, 3, 4)\n",
    "print(fourier_ring_4)\n",
    "\n",
    "fourier_ring_5 = get_corresponding_values(k_values, P_k, 4, 5)\n",
    "print(fourier_ring_5)"
   ]
  },
  {
   "cell_type": "code",
   "execution_count": 17,
   "id": "f405f3d3",
   "metadata": {},
   "outputs": [],
   "source": [
    "#Then add all of these fourier transform array values together and average them\n",
    "#this will be one point on your (P(k), k) plot\n",
    "\n",
    "def avg_corresponding_values(input_k, fourier_array, start, end):\n",
    "    #calling the corresponding values function to give values\n",
    "    values = get_corresponding_values(input_k, fourier_array, start, end)\n",
    "    \n",
    "    #getting the average of these points\n",
    "    avg = sum(values)/len(values)\n",
    "    \n",
    "    #returns average fourier values for corresponding k range\n",
    "    return avg"
   ]
  },
  {
   "cell_type": "code",
   "execution_count": 18,
   "id": "3b40bde2",
   "metadata": {},
   "outputs": [
    {
     "name": "stdout",
     "output_type": "stream",
     "text": [
      "0.06833350452843409\n",
      "0.7081541835185469\n",
      "0.7130389267109698\n",
      "0.7085183850484502\n",
      "0.7134539771571888\n"
     ]
    }
   ],
   "source": [
    "point1 = avg_corresponding_values(k_values, P_k, 0, 1)\n",
    "print(point1)\n",
    "\n",
    "point2 = avg_corresponding_values(k_values, P_k, 1, 2)\n",
    "print(point2)\n",
    "\n",
    "point3 = avg_corresponding_values(k_values, P_k, 2, 3)\n",
    "print(point3)\n",
    "\n",
    "point4 = avg_corresponding_values(k_values, P_k, 3, 4)\n",
    "print(point4)\n",
    "\n",
    "point5 = avg_corresponding_values(k_values, P_k, 4, 5)\n",
    "print(point5)"
   ]
  },
  {
   "cell_type": "code",
   "execution_count": 19,
   "id": "68f4c8e8",
   "metadata": {},
   "outputs": [],
   "source": [
    "#SHOULD EXPECT A FLAT LINE IN YOUR FINAL P(K) VS K PLOT\n",
    "#maybe some noise due to the fact that it is such a small plot\n",
    "\n",
    "def power_spectra_plot(input_k, fourier_array, start_values, end_values):\n",
    "    \n",
    "    #getting the average fourier value for the chosen k range\n",
    "    avg_values = [avg_corresponding_values(input_k, fourier_array, start, end) for start, end in zip(start_values, end_values)]\n",
    "    #list of integers from our chosen range values\n",
    "    #will be the labels for the x-axis\n",
    "    range_values = list(range(len(start_values)))\n",
    "    \n",
    "    plt.plot(range_values, avg_values)\n",
    "    \n",
    "    #plot specifications\n",
    "    plt.xlabel(\"$k$\", size = 12)\n",
    "    plt.ylabel(\"$P(k)$\", size = 12)\n",
    "    plt.suptitle(\"Power Spectrum from a 2D Toy Box\", size = 15)\n",
    "    plt.tight_layout()\n",
    "    "
   ]
  },
  {
   "cell_type": "code",
   "execution_count": 20,
   "id": "e740a8bb",
   "metadata": {},
   "outputs": [
    {
     "data": {
      "image/png": "[encoded data removed]",
      "text/plain": [
       "<Figure size 432x288 with 1 Axes>"
      ]
     },
     "metadata": {
      "needs_background": "light"
     },
     "output_type": "display_data"
    }
   ],
   "source": [
    "#The range of values that were previously decided on \n",
    "start_k = [0, 1, 2, 3, 4]\n",
    "end_k = [1, 2, 3, 4, 5]\n",
    "\n",
    "power_spectra_plot(k_values, P_k, start_k, end_k)"
   ]
  },
  {
   "cell_type": "code",
   "execution_count": null,
   "id": "3a66aa42",
   "metadata": {},
   "outputs": [],
   "source": []
  }
 ],
 "metadata": {
  "kernelspec": {
   "display_name": "Python 3 (ipykernel)",
   "language": "python",
   "name": "python3"
  },
  "language_info": {
   "codemirror_mode": {
    "name": "ipython",
    "version": 3
   },
   "file_extension": ".py",
   "mimetype": "text/x-python",
   "name": "python",
   "nbconvert_exporter": "python",
   "pygments_lexer": "ipython3",
   "version": "3.8.5"
  }
 },
 "nbformat": 4,
 "nbformat_minor": 5
}
